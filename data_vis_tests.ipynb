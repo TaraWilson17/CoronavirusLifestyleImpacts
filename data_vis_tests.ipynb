{
 "cells": [
  {
   "cell_type": "markdown",
   "metadata": {},
   "source": [
    "# Data Viz"
   ]
  },
  {
   "cell_type": "code",
   "execution_count": 48,
   "metadata": {},
   "outputs": [],
   "source": [
    "import pandas as pd     \n",
    "import matplotlib.pyplot as plt\n",
    "from matplotlib.dates import DateFormatter\n",
    "import matplotlib.dates as mdates"
   ]
  },
  {
   "cell_type": "code",
   "execution_count": 7,
   "metadata": {},
   "outputs": [],
   "source": [
    "keyword_1 = 'masks'\n",
    "keyword_2 = 'puppy breeder'\n",
    "state = 'Ohio'"
   ]
  },
  {
   "cell_type": "code",
   "execution_count": 30,
   "metadata": {},
   "outputs": [],
   "source": [
    "df = pd.read_csv('agg_data.csv')\n",
    "df = df.rename(columns={'Unnamed: 0': 'Date'})"
   ]
  },
  {
   "cell_type": "code",
   "execution_count": 31,
   "metadata": {},
   "outputs": [
    {
     "data": {
      "text/html": [
       "<div>\n",
       "<style scoped>\n",
       "    .dataframe tbody tr th:only-of-type {\n",
       "        vertical-align: middle;\n",
       "    }\n",
       "\n",
       "    .dataframe tbody tr th {\n",
       "        vertical-align: top;\n",
       "    }\n",
       "\n",
       "    .dataframe thead th {\n",
       "        text-align: right;\n",
       "    }\n",
       "</style>\n",
       "<table border=\"1\" class=\"dataframe\">\n",
       "  <thead>\n",
       "    <tr style=\"text-align: right;\">\n",
       "      <th></th>\n",
       "      <th>Date</th>\n",
       "      <th>Confirmed</th>\n",
       "      <th>ConfirmedChange</th>\n",
       "      <th>Deaths</th>\n",
       "      <th>DeathsChange</th>\n",
       "      <th>Recovered</th>\n",
       "      <th>RecoveredChange</th>\n",
       "      <th>Country</th>\n",
       "      <th>State</th>\n",
       "      <th>masks</th>\n",
       "      <th>puppy breeder</th>\n",
       "    </tr>\n",
       "  </thead>\n",
       "  <tbody>\n",
       "    <tr>\n",
       "      <th>0</th>\n",
       "      <td>2019-05-12</td>\n",
       "      <td>NaN</td>\n",
       "      <td>NaN</td>\n",
       "      <td>NaN</td>\n",
       "      <td>NaN</td>\n",
       "      <td>NaN</td>\n",
       "      <td>NaN</td>\n",
       "      <td>NaN</td>\n",
       "      <td>NaN</td>\n",
       "      <td>7.0</td>\n",
       "      <td>0.0</td>\n",
       "    </tr>\n",
       "    <tr>\n",
       "      <th>1</th>\n",
       "      <td>2019-05-19</td>\n",
       "      <td>NaN</td>\n",
       "      <td>NaN</td>\n",
       "      <td>NaN</td>\n",
       "      <td>NaN</td>\n",
       "      <td>NaN</td>\n",
       "      <td>NaN</td>\n",
       "      <td>NaN</td>\n",
       "      <td>NaN</td>\n",
       "      <td>6.0</td>\n",
       "      <td>0.0</td>\n",
       "    </tr>\n",
       "    <tr>\n",
       "      <th>2</th>\n",
       "      <td>2019-05-26</td>\n",
       "      <td>NaN</td>\n",
       "      <td>NaN</td>\n",
       "      <td>NaN</td>\n",
       "      <td>NaN</td>\n",
       "      <td>NaN</td>\n",
       "      <td>NaN</td>\n",
       "      <td>NaN</td>\n",
       "      <td>NaN</td>\n",
       "      <td>6.0</td>\n",
       "      <td>0.0</td>\n",
       "    </tr>\n",
       "    <tr>\n",
       "      <th>3</th>\n",
       "      <td>2019-06-02</td>\n",
       "      <td>NaN</td>\n",
       "      <td>NaN</td>\n",
       "      <td>NaN</td>\n",
       "      <td>NaN</td>\n",
       "      <td>NaN</td>\n",
       "      <td>NaN</td>\n",
       "      <td>NaN</td>\n",
       "      <td>NaN</td>\n",
       "      <td>6.0</td>\n",
       "      <td>0.0</td>\n",
       "    </tr>\n",
       "    <tr>\n",
       "      <th>4</th>\n",
       "      <td>2019-06-09</td>\n",
       "      <td>NaN</td>\n",
       "      <td>NaN</td>\n",
       "      <td>NaN</td>\n",
       "      <td>NaN</td>\n",
       "      <td>NaN</td>\n",
       "      <td>NaN</td>\n",
       "      <td>NaN</td>\n",
       "      <td>NaN</td>\n",
       "      <td>6.0</td>\n",
       "      <td>0.0</td>\n",
       "    </tr>\n",
       "    <tr>\n",
       "      <th>...</th>\n",
       "      <td>...</td>\n",
       "      <td>...</td>\n",
       "      <td>...</td>\n",
       "      <td>...</td>\n",
       "      <td>...</td>\n",
       "      <td>...</td>\n",
       "      <td>...</td>\n",
       "      <td>...</td>\n",
       "      <td>...</td>\n",
       "      <td>...</td>\n",
       "      <td>...</td>\n",
       "    </tr>\n",
       "    <tr>\n",
       "      <th>129</th>\n",
       "      <td>2020-05-16</td>\n",
       "      <td>27474.0</td>\n",
       "      <td>520.0</td>\n",
       "      <td>1610.0</td>\n",
       "      <td>29.0</td>\n",
       "      <td>NaN</td>\n",
       "      <td>NaN</td>\n",
       "      <td>United States</td>\n",
       "      <td>Ohio</td>\n",
       "      <td>NaN</td>\n",
       "      <td>NaN</td>\n",
       "    </tr>\n",
       "    <tr>\n",
       "      <th>130</th>\n",
       "      <td>2020-05-17</td>\n",
       "      <td>27923.0</td>\n",
       "      <td>449.0</td>\n",
       "      <td>1625.0</td>\n",
       "      <td>15.0</td>\n",
       "      <td>NaN</td>\n",
       "      <td>NaN</td>\n",
       "      <td>United States</td>\n",
       "      <td>Ohio</td>\n",
       "      <td>NaN</td>\n",
       "      <td>NaN</td>\n",
       "    </tr>\n",
       "    <tr>\n",
       "      <th>131</th>\n",
       "      <td>2020-05-18</td>\n",
       "      <td>28454.0</td>\n",
       "      <td>531.0</td>\n",
       "      <td>1657.0</td>\n",
       "      <td>32.0</td>\n",
       "      <td>NaN</td>\n",
       "      <td>NaN</td>\n",
       "      <td>United States</td>\n",
       "      <td>Ohio</td>\n",
       "      <td>NaN</td>\n",
       "      <td>NaN</td>\n",
       "    </tr>\n",
       "    <tr>\n",
       "      <th>132</th>\n",
       "      <td>2020-05-19</td>\n",
       "      <td>28952.0</td>\n",
       "      <td>498.0</td>\n",
       "      <td>1720.0</td>\n",
       "      <td>63.0</td>\n",
       "      <td>NaN</td>\n",
       "      <td>NaN</td>\n",
       "      <td>United States</td>\n",
       "      <td>Ohio</td>\n",
       "      <td>NaN</td>\n",
       "      <td>NaN</td>\n",
       "    </tr>\n",
       "    <tr>\n",
       "      <th>133</th>\n",
       "      <td>2020-05-20</td>\n",
       "      <td>29436.0</td>\n",
       "      <td>484.0</td>\n",
       "      <td>1781.0</td>\n",
       "      <td>61.0</td>\n",
       "      <td>NaN</td>\n",
       "      <td>NaN</td>\n",
       "      <td>United States</td>\n",
       "      <td>Ohio</td>\n",
       "      <td>NaN</td>\n",
       "      <td>NaN</td>\n",
       "    </tr>\n",
       "  </tbody>\n",
       "</table>\n",
       "<p>134 rows × 11 columns</p>\n",
       "</div>"
      ],
      "text/plain": [
       "           Date  Confirmed  ConfirmedChange  Deaths  DeathsChange  Recovered  \\\n",
       "0    2019-05-12        NaN              NaN     NaN           NaN        NaN   \n",
       "1    2019-05-19        NaN              NaN     NaN           NaN        NaN   \n",
       "2    2019-05-26        NaN              NaN     NaN           NaN        NaN   \n",
       "3    2019-06-02        NaN              NaN     NaN           NaN        NaN   \n",
       "4    2019-06-09        NaN              NaN     NaN           NaN        NaN   \n",
       "..          ...        ...              ...     ...           ...        ...   \n",
       "129  2020-05-16    27474.0            520.0  1610.0          29.0        NaN   \n",
       "130  2020-05-17    27923.0            449.0  1625.0          15.0        NaN   \n",
       "131  2020-05-18    28454.0            531.0  1657.0          32.0        NaN   \n",
       "132  2020-05-19    28952.0            498.0  1720.0          63.0        NaN   \n",
       "133  2020-05-20    29436.0            484.0  1781.0          61.0        NaN   \n",
       "\n",
       "     RecoveredChange        Country State  masks  puppy breeder  \n",
       "0                NaN            NaN   NaN    7.0            0.0  \n",
       "1                NaN            NaN   NaN    6.0            0.0  \n",
       "2                NaN            NaN   NaN    6.0            0.0  \n",
       "3                NaN            NaN   NaN    6.0            0.0  \n",
       "4                NaN            NaN   NaN    6.0            0.0  \n",
       "..               ...            ...   ...    ...            ...  \n",
       "129              NaN  United States  Ohio    NaN            NaN  \n",
       "130              NaN  United States  Ohio    NaN            NaN  \n",
       "131              NaN  United States  Ohio    NaN            NaN  \n",
       "132              NaN  United States  Ohio    NaN            NaN  \n",
       "133              NaN  United States  Ohio    NaN            NaN  \n",
       "\n",
       "[134 rows x 11 columns]"
      ]
     },
     "execution_count": 31,
     "metadata": {},
     "output_type": "execute_result"
    }
   ],
   "source": [
    "df"
   ]
  },
  {
   "cell_type": "code",
   "execution_count": 44,
   "metadata": {},
   "outputs": [
    {
     "data": {
      "text/plain": [
       "[<matplotlib.lines.Line2D at 0x124e6dcc0>]"
      ]
     },
     "execution_count": 44,
     "metadata": {},
     "output_type": "execute_result"
    },
    {
     "data": {
      "image/png": "[encoded data removed]",
      "text/plain": [
       "<Figure size 864x576 with 1 Axes>"
      ]
     },
     "metadata": {
      "needs_background": "light"
     },
     "output_type": "display_data"
    }
   ],
   "source": [
    "fig, ax1 = plt.subplots(figsize=(12,8))\n",
    "plt.title(\"Keyword Search Comparison in \" + state)\n",
    "\n",
    "ax1.set_ylabel(\"Relative Popularity\", color=\"blue\")\n",
    "ax1.plot_date(df['Date'], df[keyword_1])\n",
    "# ax1.plot(data[keyword_1], \"--\", c=\"blue\", label=\"Searches for \" + keyword_1)\n",
    "# ax1.plot(data[keyword_2], \"-\", c=\"blue\", label=\"Searches for \" + keyword_2)\n",
    "# ax1.tick_params(axis='y', labelcolor=\"blue\")\n",
    "# ax2 = ax1.twinx()\n",
    "# ax2.set_ylabel(\"Coronavirus cases\", color=\"red\")\n",
    "# ax2.plot(data['Confirmed'], c=\"red\")\n",
    "# ax2.tick_params(axis='y', labelcolor=\"red\")\n",
    "# ax1.legend()\n",
    "# plt.show()"
   ]
  },
  {
   "cell_type": "code",
   "execution_count": 52,
   "metadata": {},
   "outputs": [
    {
     "data": {
      "image/png": "[encoded data removed]",
      "text/plain": [
       "<Figure size 1440x720 with 1 Axes>"
      ]
     },
     "metadata": {
      "needs_background": "light"
     },
     "output_type": "display_data"
    }
   ],
   "source": [
    "# set up axis and fig size\n",
    "fig, ax = plt.subplots(figsize=(20, 10))\n",
    "\n",
    "# plot the data\n",
    "plt.plot(df['Date'], df[keyword_2], color='green')\n",
    "\n",
    "# Labels\n",
    "ax.set(xlabel=\"Date\",\n",
    "       ylabel=\"Relative Popularity\",\n",
    "       title=\"Keyword Search Comparison in \" + state)\n",
    "\n",
    "# Define the date format\n",
    "date_form = DateFormatter(\"%M/%Y\")\n",
    "ax.xaxis.set_major_formatter(date_form)\n",
    "ax.xaxis.set_major_locator(mdates.MonthLocator())\n",
    "#ax.xaxis.set_minor_locator(mdates.WeekLocator())\n",
    "\n",
    "# hide weird text\n",
    "plt.show()"
   ]
  }
 ],
 "metadata": {
  "kernelspec": {
   "display_name": "Python 3",
   "language": "python",
   "name": "python3"
  },
  "language_info": {
   "codemirror_mode": {
    "name": "ipython",
    "version": 3
   },
   "file_extension": ".py",
   "mimetype": "text/x-python",
   "name": "python",
   "nbconvert_exporter": "python",
   "pygments_lexer": "ipython3",
   "version": "3.7.2"
  }
 },
 "nbformat": 4,
 "nbformat_minor": 4
}
