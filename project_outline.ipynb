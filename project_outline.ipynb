{
 "cells": [
  {
   "cell_type": "markdown",
   "metadata": {},
   "source": [
    "# Coronavirus lifestyle impact project outline\n",
    "\n",
    "I made this as kind of a mock up for what we could build off of - e.g. incorporating the user input and generating resulting output and just to check the flow will all work as expected. Hopefully we can take this and use it to transform some of our ideas and to play around with visualizations and such! \n",
    "\n",
    "To use it just put in a state name (full name) and then 2 Google search keywords and the rest should be done for you!"
   ]
  },
  {
   "cell_type": "code",
   "execution_count": 1,
   "metadata": {},
   "outputs": [],
   "source": [
    "import pandas as pd     \n",
    "import us\n",
    "import matplotlib.pyplot as plt\n",
    "from pytrends.request import TrendReq"
   ]
  },
  {
   "cell_type": "code",
   "execution_count": 2,
   "metadata": {},
   "outputs": [
    {
     "name": "stdout",
     "output_type": "stream",
     "text": [
      "What state would you like information for? Texas\n"
     ]
    }
   ],
   "source": [
    "state = input(\"What state would you like information for? \") "
   ]
  },
  {
   "cell_type": "code",
   "execution_count": 3,
   "metadata": {},
   "outputs": [
    {
     "name": "stdout",
     "output_type": "stream",
     "text": [
      "First keyword to search for: Home workouts\n"
     ]
    }
   ],
   "source": [
    "keyword_1 = input(\"First keyword to search for: \")"
   ]
  },
  {
   "cell_type": "code",
   "execution_count": 4,
   "metadata": {},
   "outputs": [
    {
     "name": "stdout",
     "output_type": "stream",
     "text": [
      "Second keyword to search for: Bars near me\n"
     ]
    }
   ],
   "source": [
    "keyword_2 = input(\"Second keyword to search for: \")"
   ]
  },
  {
   "cell_type": "code",
   "execution_count": 5,
   "metadata": {},
   "outputs": [
    {
     "data": {
      "text/plain": [
       "'TX'"
      ]
     },
     "execution_count": 5,
     "metadata": {},
     "output_type": "execute_result"
    }
   ],
   "source": [
    "keywords = [keyword_1, keyword_2]\n",
    "state_abbr = us.states.lookup(state).abbr\n",
    "state_abbr"
   ]
  },
  {
   "cell_type": "code",
   "execution_count": 6,
   "metadata": {},
   "outputs": [
    {
     "data": {
      "text/html": [
       "<div>\n",
       "<style scoped>\n",
       "    .dataframe tbody tr th:only-of-type {\n",
       "        vertical-align: middle;\n",
       "    }\n",
       "\n",
       "    .dataframe tbody tr th {\n",
       "        vertical-align: top;\n",
       "    }\n",
       "\n",
       "    .dataframe thead th {\n",
       "        text-align: right;\n",
       "    }\n",
       "</style>\n",
       "<table border=\"1\" class=\"dataframe\">\n",
       "  <thead>\n",
       "    <tr style=\"text-align: right;\">\n",
       "      <th></th>\n",
       "      <th>ID</th>\n",
       "      <th>Updated</th>\n",
       "      <th>Confirmed</th>\n",
       "      <th>ConfirmedChange</th>\n",
       "      <th>Deaths</th>\n",
       "      <th>DeathsChange</th>\n",
       "      <th>Recovered</th>\n",
       "      <th>RecoveredChange</th>\n",
       "      <th>Latitude</th>\n",
       "      <th>Longitude</th>\n",
       "      <th>ISO2</th>\n",
       "      <th>ISO3</th>\n",
       "      <th>Country_Region</th>\n",
       "      <th>AdminRegion1</th>\n",
       "      <th>AdminRegion2</th>\n",
       "    </tr>\n",
       "  </thead>\n",
       "  <tbody>\n",
       "    <tr>\n",
       "      <th>145231</th>\n",
       "      <td>117141</td>\n",
       "      <td>01/21/2020</td>\n",
       "      <td>0</td>\n",
       "      <td>NaN</td>\n",
       "      <td>NaN</td>\n",
       "      <td>NaN</td>\n",
       "      <td>NaN</td>\n",
       "      <td>NaN</td>\n",
       "      <td>31.46276</td>\n",
       "      <td>-99.33303</td>\n",
       "      <td>US</td>\n",
       "      <td>USA</td>\n",
       "      <td>United States</td>\n",
       "      <td>Texas</td>\n",
       "      <td>NaN</td>\n",
       "    </tr>\n",
       "    <tr>\n",
       "      <th>145232</th>\n",
       "      <td>117142</td>\n",
       "      <td>01/24/2020</td>\n",
       "      <td>0</td>\n",
       "      <td>0.0</td>\n",
       "      <td>NaN</td>\n",
       "      <td>NaN</td>\n",
       "      <td>NaN</td>\n",
       "      <td>NaN</td>\n",
       "      <td>31.46276</td>\n",
       "      <td>-99.33303</td>\n",
       "      <td>US</td>\n",
       "      <td>USA</td>\n",
       "      <td>United States</td>\n",
       "      <td>Texas</td>\n",
       "      <td>NaN</td>\n",
       "    </tr>\n",
       "    <tr>\n",
       "      <th>145233</th>\n",
       "      <td>117143</td>\n",
       "      <td>01/25/2020</td>\n",
       "      <td>0</td>\n",
       "      <td>0.0</td>\n",
       "      <td>NaN</td>\n",
       "      <td>NaN</td>\n",
       "      <td>NaN</td>\n",
       "      <td>NaN</td>\n",
       "      <td>31.46276</td>\n",
       "      <td>-99.33303</td>\n",
       "      <td>US</td>\n",
       "      <td>USA</td>\n",
       "      <td>United States</td>\n",
       "      <td>Texas</td>\n",
       "      <td>NaN</td>\n",
       "    </tr>\n",
       "    <tr>\n",
       "      <th>145234</th>\n",
       "      <td>117144</td>\n",
       "      <td>01/26/2020</td>\n",
       "      <td>0</td>\n",
       "      <td>0.0</td>\n",
       "      <td>NaN</td>\n",
       "      <td>NaN</td>\n",
       "      <td>NaN</td>\n",
       "      <td>NaN</td>\n",
       "      <td>31.46276</td>\n",
       "      <td>-99.33303</td>\n",
       "      <td>US</td>\n",
       "      <td>USA</td>\n",
       "      <td>United States</td>\n",
       "      <td>Texas</td>\n",
       "      <td>NaN</td>\n",
       "    </tr>\n",
       "    <tr>\n",
       "      <th>145235</th>\n",
       "      <td>117145</td>\n",
       "      <td>01/30/2020</td>\n",
       "      <td>0</td>\n",
       "      <td>0.0</td>\n",
       "      <td>NaN</td>\n",
       "      <td>NaN</td>\n",
       "      <td>NaN</td>\n",
       "      <td>NaN</td>\n",
       "      <td>31.46276</td>\n",
       "      <td>-99.33303</td>\n",
       "      <td>US</td>\n",
       "      <td>USA</td>\n",
       "      <td>United States</td>\n",
       "      <td>Texas</td>\n",
       "      <td>NaN</td>\n",
       "    </tr>\n",
       "  </tbody>\n",
       "</table>\n",
       "</div>"
      ],
      "text/plain": [
       "            ID     Updated  Confirmed  ConfirmedChange  Deaths  DeathsChange  \\\n",
       "145231  117141  01/21/2020          0              NaN     NaN           NaN   \n",
       "145232  117142  01/24/2020          0              0.0     NaN           NaN   \n",
       "145233  117143  01/25/2020          0              0.0     NaN           NaN   \n",
       "145234  117144  01/26/2020          0              0.0     NaN           NaN   \n",
       "145235  117145  01/30/2020          0              0.0     NaN           NaN   \n",
       "\n",
       "        Recovered  RecoveredChange  Latitude  Longitude ISO2 ISO3  \\\n",
       "145231        NaN              NaN  31.46276  -99.33303   US  USA   \n",
       "145232        NaN              NaN  31.46276  -99.33303   US  USA   \n",
       "145233        NaN              NaN  31.46276  -99.33303   US  USA   \n",
       "145234        NaN              NaN  31.46276  -99.33303   US  USA   \n",
       "145235        NaN              NaN  31.46276  -99.33303   US  USA   \n",
       "\n",
       "       Country_Region AdminRegion1 AdminRegion2  \n",
       "145231  United States        Texas          NaN  \n",
       "145232  United States        Texas          NaN  \n",
       "145233  United States        Texas          NaN  \n",
       "145234  United States        Texas          NaN  \n",
       "145235  United States        Texas          NaN  "
      ]
     },
     "execution_count": 6,
     "metadata": {},
     "output_type": "execute_result"
    }
   ],
   "source": [
    "state_data = pd.read_csv(\"https://raw.githubusercontent.com/microsoft/Bing-COVID-19-Data/master/data/Bing-COVID19-Data.csv\")\n",
    "state_data = state_data[(state_data.AdminRegion1 == state) & (state_data.AdminRegion2.isnull())]\n",
    "state_data.head()"
   ]
  },
  {
   "cell_type": "code",
   "execution_count": 7,
   "metadata": {},
   "outputs": [
    {
     "data": {
      "text/html": [
       "<div>\n",
       "<style scoped>\n",
       "    .dataframe tbody tr th:only-of-type {\n",
       "        vertical-align: middle;\n",
       "    }\n",
       "\n",
       "    .dataframe tbody tr th {\n",
       "        vertical-align: top;\n",
       "    }\n",
       "\n",
       "    .dataframe thead th {\n",
       "        text-align: right;\n",
       "    }\n",
       "</style>\n",
       "<table border=\"1\" class=\"dataframe\">\n",
       "  <thead>\n",
       "    <tr style=\"text-align: right;\">\n",
       "      <th></th>\n",
       "      <th>Home workouts</th>\n",
       "      <th>Bars near me</th>\n",
       "      <th>isPartial</th>\n",
       "    </tr>\n",
       "    <tr>\n",
       "      <th>date</th>\n",
       "      <th></th>\n",
       "      <th></th>\n",
       "      <th></th>\n",
       "    </tr>\n",
       "  </thead>\n",
       "  <tbody>\n",
       "    <tr>\n",
       "      <th>2019-05-12</th>\n",
       "      <td>7</td>\n",
       "      <td>70</td>\n",
       "      <td>False</td>\n",
       "    </tr>\n",
       "    <tr>\n",
       "      <th>2019-05-19</th>\n",
       "      <td>8</td>\n",
       "      <td>75</td>\n",
       "      <td>False</td>\n",
       "    </tr>\n",
       "    <tr>\n",
       "      <th>2019-05-26</th>\n",
       "      <td>8</td>\n",
       "      <td>83</td>\n",
       "      <td>False</td>\n",
       "    </tr>\n",
       "    <tr>\n",
       "      <th>2019-06-02</th>\n",
       "      <td>8</td>\n",
       "      <td>78</td>\n",
       "      <td>False</td>\n",
       "    </tr>\n",
       "    <tr>\n",
       "      <th>2019-06-09</th>\n",
       "      <td>9</td>\n",
       "      <td>78</td>\n",
       "      <td>False</td>\n",
       "    </tr>\n",
       "  </tbody>\n",
       "</table>\n",
       "</div>"
      ],
      "text/plain": [
       "            Home workouts  Bars near me  isPartial\n",
       "date                                              \n",
       "2019-05-12              7            70      False\n",
       "2019-05-19              8            75      False\n",
       "2019-05-26              8            83      False\n",
       "2019-06-02              8            78      False\n",
       "2019-06-09              9            78      False"
      ]
     },
     "execution_count": 7,
     "metadata": {},
     "output_type": "execute_result"
    }
   ],
   "source": [
    "user_timeframe = \"2019-05-11 2020-05-11\"\n",
    "area_code = \"en-US-\" + state_abbr\n",
    "pytrend = TrendReq(hl=area_code, tz=480)\n",
    "pytrend.build_payload(kw_list=keywords, timeframe=user_timeframe)\n",
    "df = pytrend.interest_over_time()\n",
    "df.head()"
   ]
  },
  {
   "cell_type": "code",
   "execution_count": 8,
   "metadata": {},
   "outputs": [
    {
     "data": {
      "image/png": "[encoded data removed]",
      "text/plain": [
       "<Figure size 864x576 with 2 Axes>"
      ]
     },
     "metadata": {
      "needs_background": "light"
     },
     "output_type": "display_data"
    }
   ],
   "source": [
    "fig, ax1 = plt.subplots(figsize=(12,8))\n",
    "plt.title(\"Keyword Search Comparison in \" + state)\n",
    "ax1.set_ylabel(\"Relative Popularity\", color=\"blue\")\n",
    "ax1.plot(df.index.values, df[keyword_1], \"--\", c=\"blue\", label=\"Searches for \" + keyword_1)\n",
    "ax1.plot(df.index.values, df[keyword_2], \"-\", c=\"blue\", label=\"Searches for \" + keyword_2)\n",
    "ax1.tick_params(axis='y', labelcolor=\"blue\")\n",
    "ax2 = ax1.twinx()\n",
    "ax2.set_ylabel(\"Coronavirus cases\", color=\"red\")\n",
    "ax2.plot(pd.to_datetime(state_data.Updated), state_data.Confirmed, c=\"red\")\n",
    "ax2.tick_params(axis='y', labelcolor=\"red\")\n",
    "ax1.legend()\n",
    "plt.show()"
   ]
  },
  {
   "cell_type": "code",
   "execution_count": null,
   "metadata": {},
   "outputs": [],
   "source": []
  }
 ],
 "metadata": {
  "kernelspec": {
   "display_name": "Python 3",
   "language": "python",
   "name": "python3"
  },
  "language_info": {
   "codemirror_mode": {
    "name": "ipython",
    "version": 3
   },
   "file_extension": ".py",
   "mimetype": "text/x-python",
   "name": "python",
   "nbconvert_exporter": "python",
   "pygments_lexer": "ipython3",
   "version": "3.7.6"
  }
 },
 "nbformat": 4,
 "nbformat_minor": 4
}
